{
 "cells": [
  {
   "cell_type": "markdown",
   "id": "5a486524",
   "metadata": {},
   "source": [
    "Use an `ImageFolder` dataset to load the data, and pass it through the network we used earlier. Use a `Resize` transform before the `ToTensor` transform to convert the data to a uniform resolution of 28x28 and pass it through the network of the previous section. See\n",
    "what kind of performance you can achieve.\n",
    "\n",
    "Note: The `Resize` transform will turn our variable resolution data into a default (low) resolution. Whether the images are 32x32, 48x48 or 64x64, they all end up at 28x28 before the network sees them. This is not ideal, since we are losing a lot of information, but it is cheap, because all our images are very small. We'll use this network as a simple baseline later in the assignment (at question 17)."
   ]
  },
  {
   "cell_type": "code",
   "execution_count": 2,
   "id": "02835945",
   "metadata": {},
   "outputs": [],
   "source": [
    "import torch\n",
    "import torchvision\n",
    "import torch.nn as nn\n",
    "import torch.nn.functional as F\n",
    "import torch.optim as optim\n",
    "\n",
    "from torchvision.transforms import *\n",
    "from torchvision.datasets import MNIST\n",
    "from torch.utils.data import DataLoader\n",
    "\n",
    "import numpy as np"
   ]
  },
  {
   "cell_type": "code",
   "execution_count": 32,
   "id": "1a4151af",
   "metadata": {},
   "outputs": [],
   "source": [
    "TRAIN_SIZE = 50000\n",
    "VALIDATION_SIZE = 10000\n",
    "ROOT = '../data' # .. to not have data folder within notebooks folder\n",
    "BATCH_SIZE = 64\n",
    "EPOCHS = 3\n",
    "\n",
    "LEARNING_RATE = 0.001"
   ]
  },
  {
   "cell_type": "code",
   "execution_count": 33,
   "id": "b9d85ec8",
   "metadata": {},
   "outputs": [],
   "source": [
    "transform = transforms.Compose([transforms.Resize([28, 28]),\n",
    "                                transforms.ToTensor(),\n",
    "                                transforms.Normalize((0.1307,), (0.3081,))])"
   ]
  },
  {
   "cell_type": "code",
   "execution_count": 36,
   "id": "0d44976b",
   "metadata": {},
   "outputs": [],
   "source": [
    "dataset = torchvision.datasets.ImageFolder(root = \"../data/mnist-varres/train/\",\n",
    "                                          transform=transform)\n",
    "\n",
    "train_set, validation_set = torch.utils.data.random_split(dataset, [TRAIN_SIZE, VALIDATION_SIZE])\n",
    "\n",
    "train_loader = torch.utils.data.DataLoader(train_set,\n",
    "                                           batch_size = BATCH_SIZE,\n",
    "                                           shuffle = True,\n",
    "                                           num_workers = 2)\n",
    "\n",
    "validation_loader = torch.utils.data.DataLoader(validation_set,\n",
    "                                                batch_size = BATCH_SIZE,\n",
    "                                                shuffle = True,\n",
    "                                                num_workers = 2)"
   ]
  },
  {
   "cell_type": "code",
   "execution_count": 37,
   "id": "60c2ad47",
   "metadata": {},
   "outputs": [],
   "source": [
    "test_set = torchvision.datasets.ImageFolder(root = \"../data/mnist-varres/test/\",\n",
    "                                          transform=transform)\n",
    "\n",
    "test_loader = torch.utils.data.DataLoader(test_set,\n",
    "                                          batch_size = BATCH_SIZE,\n",
    "                                          shuffle = True,\n",
    "                                          num_workers = 2)"
   ]
  },
  {
   "cell_type": "code",
   "execution_count": 38,
   "id": "8f74782d",
   "metadata": {},
   "outputs": [],
   "source": [
    "log_interval = 100"
   ]
  },
  {
   "cell_type": "code",
   "execution_count": 45,
   "id": "5de18b11",
   "metadata": {},
   "outputs": [],
   "source": [
    "class Net(nn.Module):\n",
    "    def __init__(self):\n",
    "        super(Net, self).__init__()\n",
    "        self.conv1 = nn.Conv2d(3, 16, kernel_size = 3, stride = 1, padding = 1) # size: batch, 1, 28, 28\n",
    "        self.conv2 = nn.Conv2d(16, 32, kernel_size = 3, stride = 1, padding = 1) # (batch, 16, 14, 14)\n",
    "        self.conv3 = nn.Conv2d(32, 64, kernel_size = 3, stride = 1, padding = 1) # (batch, 32, 7, 7)\n",
    "        self.fc1 = nn.Linear(64*3*3, 10)\n",
    "\n",
    "    def forward(self, x):\n",
    "        x = F.max_pool2d(F.relu(self.conv1(x)), 2) # (batch, 16, 28, 28) # TODO klopt het dat relu en maxpool zijn omgedraaid?\n",
    "        x = F.max_pool2d(F.relu(self.conv2(x)), 2) # (batch, 32, 14, 14)\n",
    "        x = F.max_pool2d(F.relu(self.conv3(x)), 2) # (batch, 64, 7, 7)\n",
    "        x = torch.flatten(x, 1) # (batch, 64, 3, 3)\n",
    "        x = self.fc1(x)\n",
    "        return F.log_softmax(x, dim = 1)"
   ]
  },
  {
   "cell_type": "code",
   "execution_count": 46,
   "id": "4418d0ff",
   "metadata": {},
   "outputs": [],
   "source": [
    "network = Net()\n",
    "optimizer = optim.Adam(network.parameters(), lr=LEARNING_RATE)"
   ]
  },
  {
   "cell_type": "code",
   "execution_count": 47,
   "id": "f8cc07fd",
   "metadata": {},
   "outputs": [],
   "source": [
    "train_losses = []\n",
    "train_counter = []\n",
    "val_losses = []\n",
    "val_counter = [i*TRAIN_SIZE for i in range(EPOCHS + 1)]"
   ]
  },
  {
   "cell_type": "code",
   "execution_count": 48,
   "id": "ca3d484f",
   "metadata": {},
   "outputs": [],
   "source": [
    "# TODO Make sure to have \"results\" directory in \"CNN/\"\n",
    "def train(epoch):\n",
    "    network.train()\n",
    "    for batch_idx, (data, target) in enumerate(train_loader):\n",
    "        optimizer.zero_grad()\n",
    "        output = network(data)\n",
    "        loss = F.cross_entropy(output, target)\n",
    "        loss.backward()\n",
    "        optimizer.step()\n",
    "        if batch_idx % log_interval == 0:\n",
    "            print('Train Epoch: {} [{}/{} ({:.0f}%)]\\tLoss: {:.6f}'.format(\n",
    "                epoch, batch_idx * len(data), len(train_loader.dataset),\n",
    "                100. * batch_idx / len(train_loader), loss.item()))\n",
    "            train_losses.append(loss.item())\n",
    "            train_counter.append(\n",
    "                (batch_idx*64) + ((epoch-1)*len(train_loader.dataset)))\n",
    "            torch.save(network.state_dict(), '../results/model_Q8.pth')\n",
    "            torch.save(optimizer.state_dict(), '../results/optimizer_Q8.pth')"
   ]
  },
  {
   "cell_type": "code",
   "execution_count": 49,
   "id": "3b777a7d",
   "metadata": {},
   "outputs": [],
   "source": [
    "def test():\n",
    "    network.eval()\n",
    "    val_loss = 0\n",
    "    correct = 0\n",
    "    with torch.no_grad():\n",
    "        for data, target in validation_loader:\n",
    "            output = network(data)\n",
    "            val_loss += F.cross_entropy(output, target, size_average=False).item()\n",
    "            pred = output.data.max(1, keepdim=True)[1]\n",
    "            correct += pred.eq(target.data.view_as(pred)).sum()\n",
    "        val_loss /= VALIDATION_SIZE\n",
    "        val_losses.append(val_loss)\n",
    "        print('\\nTest set: Avg. loss: {:.4f}, Accuracy: {}/{} ({:.0f}%)\\n'.format(\n",
    "            val_loss, correct, VALIDATION_SIZE,\n",
    "            100. * correct / VALIDATION_SIZE))"
   ]
  },
  {
   "cell_type": "code",
   "execution_count": 50,
   "id": "b9d12a7b",
   "metadata": {},
   "outputs": [
    {
     "name": "stderr",
     "output_type": "stream",
     "text": [
      "/Users/jannekehulsen/miniconda3/lib/python3.9/site-packages/torch/nn/_reduction.py:42: UserWarning: size_average and reduce args will be deprecated, please use reduction='sum' instead.\n",
      "  warnings.warn(warning.format(ret))\n"
     ]
    },
    {
     "name": "stdout",
     "output_type": "stream",
     "text": [
      "\n",
      "Test set: Avg. loss: 2.3073, Accuracy: 1029/10000 (10%)\n",
      "\n",
      "Train Epoch: 1 [0/50000 (0%)]\tLoss: 2.326840\n",
      "Train Epoch: 1 [6400/50000 (13%)]\tLoss: 1.457407\n",
      "Train Epoch: 1 [12800/50000 (26%)]\tLoss: 0.961121\n",
      "Train Epoch: 1 [19200/50000 (38%)]\tLoss: 0.720492\n",
      "Train Epoch: 1 [25600/50000 (51%)]\tLoss: 0.403678\n",
      "Train Epoch: 1 [32000/50000 (64%)]\tLoss: 0.312039\n",
      "Train Epoch: 1 [38400/50000 (77%)]\tLoss: 0.483754\n",
      "Train Epoch: 1 [44800/50000 (90%)]\tLoss: 0.177289\n",
      "\n",
      "Test set: Avg. loss: 0.3313, Accuracy: 9064/10000 (91%)\n",
      "\n",
      "Train Epoch: 2 [0/50000 (0%)]\tLoss: 0.394373\n",
      "Train Epoch: 2 [6400/50000 (13%)]\tLoss: 0.228322\n",
      "Train Epoch: 2 [12800/50000 (26%)]\tLoss: 0.184118\n",
      "Train Epoch: 2 [19200/50000 (38%)]\tLoss: 0.407885\n",
      "Train Epoch: 2 [25600/50000 (51%)]\tLoss: 0.391542\n",
      "Train Epoch: 2 [32000/50000 (64%)]\tLoss: 0.310461\n",
      "Train Epoch: 2 [38400/50000 (77%)]\tLoss: 0.283297\n",
      "Train Epoch: 2 [44800/50000 (90%)]\tLoss: 0.148738\n",
      "\n",
      "Test set: Avg. loss: 0.2342, Accuracy: 9285/10000 (93%)\n",
      "\n",
      "Train Epoch: 3 [0/50000 (0%)]\tLoss: 0.103976\n",
      "Train Epoch: 3 [6400/50000 (13%)]\tLoss: 0.113296\n",
      "Train Epoch: 3 [12800/50000 (26%)]\tLoss: 0.335195\n",
      "Train Epoch: 3 [19200/50000 (38%)]\tLoss: 0.213185\n",
      "Train Epoch: 3 [25600/50000 (51%)]\tLoss: 0.346260\n",
      "Train Epoch: 3 [32000/50000 (64%)]\tLoss: 0.173543\n",
      "Train Epoch: 3 [38400/50000 (77%)]\tLoss: 0.089401\n",
      "Train Epoch: 3 [44800/50000 (90%)]\tLoss: 0.104443\n",
      "\n",
      "Test set: Avg. loss: 0.1960, Accuracy: 9455/10000 (95%)\n",
      "\n"
     ]
    }
   ],
   "source": [
    "test()\n",
    "for epoch in range(1, EPOCHS + 1):\n",
    "    train(epoch)\n",
    "    test()"
   ]
  },
  {
   "cell_type": "code",
   "execution_count": null,
   "id": "b0250d92",
   "metadata": {},
   "outputs": [],
   "source": []
  }
 ],
 "metadata": {
  "kernelspec": {
   "display_name": "Python 3 (ipykernel)",
   "language": "python",
   "name": "python3"
  },
  "language_info": {
   "codemirror_mode": {
    "name": "ipython",
    "version": 3
   },
   "file_extension": ".py",
   "mimetype": "text/x-python",
   "name": "python",
   "nbconvert_exporter": "python",
   "pygments_lexer": "ipython3",
   "version": "3.9.12"
  }
 },
 "nbformat": 4,
 "nbformat_minor": 5
}
