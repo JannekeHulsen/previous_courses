{
 "cells": [
  {
   "cell_type": "markdown",
   "metadata": {
    "id": "LaHBmUV0Q2P8"
   },
   "source": [
    "# Course: Bioinformatics for Translational Medicine\n",
    "## Date: April-May 2022\n",
    "\n",
    "The assignment was to create a machine learning model for a cancer classification task. This script aims to test several classification models and feature selection methods with a grid search and cross-validation. The best combination is selected, hyperparameters are optimized, and trained."
   ]
  },
  {
   "cell_type": "markdown",
   "metadata": {
    "id": "z1lkK3pdIbCh"
   },
   "source": [
    "## Environment setup"
   ]
  },
  {
   "cell_type": "code",
   "execution_count": null,
   "metadata": {
    "id": "I_j4Gq37NNiP"
   },
   "outputs": [],
   "source": [
    "# General\n",
    "import numpy as np\n",
    "import pandas as pd\n",
    "import joblib\n",
    "\n",
    "# Cross-validation\n",
    "from sklearn.pipeline import Pipeline # model steps\n",
    "from sklearn.model_selection import GridSearchCV # grid search\n",
    "from sklearn.model_selection import RepeatedKFold # inner cross validation\n",
    "\n",
    "# Feature selection and classification\n",
    "from sklearn.feature_selection import SelectFromModel # selection based on model\n",
    "from sklearn.svm import LinearSVC # linear SVM feature selection             \n",
    "from sklearn.linear_model import SGDClassifier # linear SVM classifier"
   ]
  },
  {
   "cell_type": "markdown",
   "metadata": {
    "id": "JTi66FZMIlAs"
   },
   "source": [
    "## Load and prepare data"
   ]
  },
  {
   "cell_type": "code",
   "execution_count": null,
   "metadata": {
    "id": "RsA-BgXTQxIk"
   },
   "outputs": [],
   "source": [
    "# Load data.\n",
    "train_call = pd.read_csv(\"Data/Train_call.txt\", sep=\"\\t\")\n",
    "# Load labels.\n",
    "train_clinical = pd.read_csv(\"Data/Train_clinical.txt\", sep=\"\\t\")"
   ]
  },
  {
   "cell_type": "code",
   "execution_count": null,
   "metadata": {
    "colab": {
     "base_uri": "https://localhost:8080/"
    },
    "id": "YyNL3VEsDePQ",
    "outputId": "2806b869-8eea-4721-b05f-1bae932a8600"
   },
   "outputs": [
    {
     "name": "stdout",
     "output_type": "stream",
     "text": [
      "shape of train features data:  (100, 2834)\n",
      "shape of train labels data:  (100, 1)\n"
     ]
    }
   ],
   "source": [
    "# Format data correctly (remove unnecessary columns).\n",
    "# train_features array should contain 100 samples and 2834 features\n",
    "train_features = train_call.loc[:, 'Array.129':'Array.130'] \n",
    "train_features = train_features.transpose() # to get array of 100 samples x 2834 features\n",
    "print(\"shape of train features data: \", train_features.shape) # 100 x 2834\n",
    "\n",
    "# train_label array should contain 100 classlabels\n",
    "train_labels = train_clinical.set_index('Sample')\n",
    "train_labels.index.names = [None]\n",
    "print(\"shape of train labels data: \", train_labels.shape)"
   ]
  },
  {
   "cell_type": "code",
   "execution_count": null,
   "metadata": {
    "id": "e8tzbjVhA1-0"
   },
   "outputs": [],
   "source": [
    "# define training data as x and y (for convenience).\n",
    "x = train_features\n",
    "y = train_labels.values.ravel()"
   ]
  },
  {
   "cell_type": "markdown",
   "metadata": {
    "id": "6q4dF_d8H7ZW"
   },
   "source": [
    "## Feature Selection and Classifier Options\n",
    "Retrieve best method combinations from cross-validation results, and use this combination in the inner cross-validation loop to determine final hyperparameter values."
   ]
  },
  {
   "cell_type": "code",
   "execution_count": null,
   "metadata": {
    "id": "gk5rHVMDrPnZ"
   },
   "outputs": [],
   "source": [
    "# Define feature selection methods and parameter search space.\n",
    "# LASSO-lSVM based feature selection.\n",
    "fs_selector = SelectFromModel(LinearSVC(penalty='l1', dual=False, max_iter=10000), threshold=-np.inf)       \n",
    "fs_grid = {'selector__max_features':[50, 100, 150, 200], 'selector__estimator__C':np.logspace(-4, 1, 6)}\n",
    "\n",
    "# Linear SVC classifier.\n",
    "clf_model = SGDClassifier(loss='hinge', random_state=42, max_iter=10000)\n",
    "clf_grid = {'classifier__alpha':np.logspace(-4, 1, 6)}"
   ]
  },
  {
   "cell_type": "markdown",
   "metadata": {
    "id": "BOtKpXh2ta55"
   },
   "source": [
    "## Cross-Validation: Hyperparameter Selection"
   ]
  },
  {
   "cell_type": "code",
   "execution_count": null,
   "metadata": {
    "id": "Aqt2CeSFtaO1"
   },
   "outputs": [],
   "source": [
    "# Perform cross-validation on combination of methods.\n",
    "def crossvalidation(fs_selector, fs_grid, clf_model, clf_grid, x, y):\n",
    "    # Define searchgrid and pipeline.\n",
    "    searchgrid = {**fs_grid, **clf_grid}\n",
    "    steps = [('selector', fs_selector), ('classifier', clf_model)]\n",
    "    pipeline = Pipeline(steps)\n",
    "    \n",
    "    # Define cross-validation to determine optimal hyperparameter combination.\n",
    "    inner_cv = RepeatedKFold(n_splits=5, random_state=42, n_repeats=10)\n",
    "    gridsearch = GridSearchCV(pipeline, searchgrid, scoring='accuracy', cv=inner_cv, refit=True, n_jobs=2)\n",
    "    print(\"gridsearch: \", gridsearch)\n",
    "\n",
    "    # Run cross-validation on training data.\n",
    "    searchresult = gridsearch.fit(x,y)\n",
    "    model = searchresult.best_estimator_\n",
    "\n",
    "    # Retrieve 'best model' score and hyperparameters.\n",
    "    best_score = searchresult.best_score_\n",
    "    best_parameters = searchresult.best_params_\n",
    "    \n",
    "    return best_score, best_parameters  "
   ]
  },
  {
   "cell_type": "code",
   "execution_count": null,
   "metadata": {
    "colab": {
     "base_uri": "https://localhost:8080/"
    },
    "id": "UgQ9aAljPBka",
    "outputId": "08a7d971-5412-43ec-dfcd-d7d747c976da"
   },
   "outputs": [
    {
     "name": "stdout",
     "output_type": "stream",
     "text": [
      "gridsearch:  GridSearchCV(cv=RepeatedKFold(n_repeats=10, n_splits=5, random_state=42),\n",
      "             estimator=Pipeline(steps=[('selector',\n",
      "                                        SelectFromModel(estimator=LinearSVC(dual=False,\n",
      "                                                                            max_iter=10000,\n",
      "                                                                            penalty='l1'),\n",
      "                                                        threshold=-inf)),\n",
      "                                       ('classifier',\n",
      "                                        SGDClassifier(max_iter=10000,\n",
      "                                                      random_state=42))]),\n",
      "             n_jobs=2,\n",
      "             param_grid={'classifier__alpha': array([1.e-04, 1.e-03, 1.e-02, 1.e-01, 1.e+00, 1.e+01]),\n",
      "                         'selector__estimator__C': array([1.e-04, 1.e-03, 1.e-02, 1.e-01, 1.e+00, 1.e+01]),\n",
      "                         'selector__max_features': [50, 100, 150, 200]},\n",
      "             scoring='accuracy')\n",
      "0.8340000000000001 {'classifier__alpha': 0.1, 'selector__estimator__C': 0.1, 'selector__max_features': 50}\n"
     ]
    }
   ],
   "source": [
    "cv_best_score, cv_best_parameters = crossvalidation(fs_selector, fs_grid, clf_model, clf_grid, x, y)\n",
    "print(cv_best_score, cv_best_parameters)"
   ]
  },
  {
   "cell_type": "code",
   "execution_count": null,
   "metadata": {
    "colab": {
     "base_uri": "https://localhost:8080/"
    },
    "id": "b9mOECbUZWW9",
    "outputId": "6619ea6f-7570-463c-d50b-1c5fb3ba1b37"
   },
   "outputs": [
    {
     "name": "stdout",
     "output_type": "stream",
     "text": [
      "0.8340000000000001 {'classifier__alpha': 0.1, 'selector__estimator__C': 0.1, 'selector__max_features': 50}\n"
     ]
    }
   ],
   "source": [
    "print(cv_best_score, cv_best_parameters)"
   ]
  },
  {
   "cell_type": "markdown",
   "metadata": {
    "id": "J0YwCVkM_hDA"
   },
   "source": [
    "## Build Final Model"
   ]
  },
  {
   "cell_type": "code",
   "execution_count": null,
   "metadata": {
    "colab": {
     "base_uri": "https://localhost:8080/"
    },
    "id": "XWv5zR9EKxUD",
    "outputId": "11f7f247-af8b-4eef-b5c9-42a7820d1280"
   },
   "outputs": [
    {
     "data": {
      "text/plain": [
       "Pipeline(steps=[('selector',\n",
       "                 SelectFromModel(estimator=LinearSVC(C=0.1, dual=False,\n",
       "                                                     max_iter=10000,\n",
       "                                                     penalty='l1'),\n",
       "                                 max_features=50, threshold=-inf)),\n",
       "                ('classifier',\n",
       "                 SGDClassifier(alpha=0.1, max_iter=10000, random_state=42))])"
      ]
     },
     "execution_count": 12,
     "metadata": {},
     "output_type": "execute_result"
    }
   ],
   "source": [
    "# Define feature selection methods and parameter search space.\n",
    "# LASSO-lSVM-based feature selection.\n",
    "fs_selector = SelectFromModel(\n",
    "    LinearSVC(penalty='l1', dual=False, max_iter=10000, C=0.1), \n",
    "    threshold=-np.inf, max_features=50)       \n",
    "clf_model = SGDClassifier(loss='hinge', random_state=42, max_iter=10000, alpha=0.1)\n",
    "\n",
    "# Pipeline for method combination.\n",
    "steps = [('selector', fs_selector), ('classifier', clf_model)]\n",
    "model = Pipeline(steps)\n",
    "model.fit(x, y)"
   ]
  },
  {
   "cell_type": "markdown",
   "metadata": {
    "id": "-G-nLQeEaXYx"
   },
   "source": [
    "## Save final model"
   ]
  },
  {
   "cell_type": "code",
   "execution_count": null,
   "metadata": {
    "colab": {
     "base_uri": "https://localhost:8080/"
    },
    "id": "XZIiliaIYiRM",
    "outputId": "7c463917-251f-4378-e967-ad4850507198"
   },
   "outputs": [
    {
     "data": {
      "text/plain": [
       "['model.pkl']"
      ]
     },
     "execution_count": 94,
     "metadata": {},
     "output_type": "execute_result"
    }
   ],
   "source": [
    "#joblib.dump(model, 'savemodel.pkl')"
   ]
  },
  {
   "cell_type": "code",
   "execution_count": null,
   "metadata": {
    "id": "yXkRyZAKZpIj"
   },
   "outputs": [],
   "source": [
    "# load the model from disk\n",
    "# model = joblib.load('savemodel.pkl')"
   ]
  }
 ],
 "metadata": {
  "colab": {
   "collapsed_sections": [
    "z1lkK3pdIbCh",
    "JTi66FZMIlAs",
    "6q4dF_d8H7ZW",
    "BOtKpXh2ta55",
    "J0YwCVkM_hDA",
    "M7uWAX2QKqgY"
   ],
   "provenance": []
  },
  "kernelspec": {
   "display_name": "Python 3 (ipykernel)",
   "language": "python",
   "name": "python3"
  },
  "language_info": {
   "codemirror_mode": {
    "name": "ipython",
    "version": 3
   },
   "file_extension": ".py",
   "mimetype": "text/x-python",
   "name": "python",
   "nbconvert_exporter": "python",
   "pygments_lexer": "ipython3",
   "version": "3.9.12"
  }
 },
 "nbformat": 4,
 "nbformat_minor": 1
}
