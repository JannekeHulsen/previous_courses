{
 "cells": [
  {
   "cell_type": "code",
   "execution_count": 1,
   "id": "8953ca45",
   "metadata": {},
   "outputs": [],
   "source": [
    "import torch"
   ]
  },
  {
   "cell_type": "markdown",
   "id": "78f2480b",
   "metadata": {},
   "source": [
    "# Question 11\n",
    "\n",
    "Let x be an input tensor with dimensions (b, c, h, w). Write the single line of\n",
    "PyTorch code that implements a global max pool and a global mean pool (one line for each\n",
    "of the two poolings). The result should be a tensor with dimensions (b, c)."
   ]
  },
  {
   "cell_type": "code",
   "execution_count": 2,
   "id": "90070410",
   "metadata": {},
   "outputs": [],
   "source": [
    "# dimensions of input\n",
    "b,c,h,w = 1, 3, 1920, 1080\n",
    "# dimensions of pool kernel\n",
    "kernel_size = 3\n",
    "stride = 2"
   ]
  },
  {
   "cell_type": "code",
   "execution_count": 3,
   "id": "8719a356",
   "metadata": {},
   "outputs": [],
   "source": [
    "input = torch.randn(b,c,h,w)"
   ]
  },
  {
   "cell_type": "code",
   "execution_count": 4,
   "id": "acf43f8a",
   "metadata": {},
   "outputs": [],
   "source": [
    "maxpool = torch.nn.MaxPool2d(kernel_size, stride)"
   ]
  },
  {
   "cell_type": "code",
   "execution_count": 5,
   "id": "7d5c2c34",
   "metadata": {},
   "outputs": [],
   "source": [
    "meanpool = torch.nn.AvgPool2d(kernel_size, stride)"
   ]
  },
  {
   "cell_type": "code",
   "execution_count": 6,
   "id": "255ee2d9",
   "metadata": {},
   "outputs": [],
   "source": [
    "output = maxpool(input)"
   ]
  }
 ],
 "metadata": {
  "kernelspec": {
   "display_name": "DLVU",
   "language": "python",
   "name": "dlvu"
  },
  "language_info": {
   "codemirror_mode": {
    "name": "ipython",
    "version": 3
   },
   "file_extension": ".py",
   "mimetype": "text/x-python",
   "name": "python",
   "nbconvert_exporter": "python",
   "pygments_lexer": "ipython3",
   "version": "3.10.6"
  }
 },
 "nbformat": 4,
 "nbformat_minor": 5
}
