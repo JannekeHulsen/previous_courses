{
 "cells": [
  {
   "cell_type": "code",
   "execution_count": 150,
   "id": "63c386ae",
   "metadata": {},
   "outputs": [],
   "source": [
    "import torch\n",
    "import torchvision\n",
    "import torch.nn as nn\n",
    "import torch.nn.functional as F\n",
    "import torch.optim as optim\n",
    "\n",
    "from torchvision.transforms import *\n",
    "from torchvision.datasets import MNIST\n",
    "from torch.utils.data import DataLoader\n",
    "\n",
    "import numpy as np"
   ]
  },
  {
   "cell_type": "markdown",
   "id": "f52a9311",
   "metadata": {},
   "source": [
    "## Load data (Q7)\n",
    "Use the dataloaders to load both the train and the test set into large tensors:\n",
    "one for the instances, one for the labels. Split the training data into 50 000 training instances\n",
    "and 10 000 validation instances. Then write a training loop that loops over batches of 16\n",
    "instances at a time."
   ]
  },
  {
   "cell_type": "code",
   "execution_count": 151,
   "id": "1a23ed61",
   "metadata": {},
   "outputs": [],
   "source": [
    "TRAIN_SIZE = 50000\n",
    "VALIDATION_SIZE = 10000\n",
    "ROOT = '../data' # .. to not have data folder within notebooks folder\n",
    "BATCH_SIZE = 64 # TODO same size for training + validation set?\n",
    "EPOCHS = 3\n",
    "\n",
    "LEARNING_RATE = 0.001"
   ]
  },
  {
   "cell_type": "markdown",
   "id": "40a05fee",
   "metadata": {},
   "source": [
    "### Data transformer\n",
    "\n",
    "See on PyTorch discussion forum [here](https://discuss.pytorch.org/t/normalization-in-the-mnist-example/457/2) on choice for 0.137 (mean) and 0.3081 (std.) for normalization. Official PyTorch example code for MNIST also uses these parameters. "
   ]
  },
  {
   "cell_type": "code",
   "execution_count": 203,
   "id": "6a1e0711",
   "metadata": {},
   "outputs": [],
   "source": [
    "transform = transforms.Compose([transforms.ToTensor(),\n",
    "                                transforms.Normalize((0.1307,), (0.3081,))])"
   ]
  },
  {
   "cell_type": "code",
   "execution_count": 204,
   "id": "8bbb0a8a",
   "metadata": {},
   "outputs": [],
   "source": [
    "# For question 9: augmentations.\n",
    "#                                       transforms.RandomAffine(degrees=20, translate=(0.1,0.1), scale=(0.9, 1.1)),\n",
    "#                                       transforms.ColorJitter(brightness=0.2, contrast=0.2),\n",
    "transform_train = transforms.Compose([transforms.RandomRotation(15),\n",
    "                                      transforms.ToTensor(),\n",
    "                                      transforms.Normalize((0.1307,), (0.3081,))])"
   ]
  },
  {
   "cell_type": "markdown",
   "id": "bd71c2c4",
   "metadata": {},
   "source": [
    "### Training / validation data\n",
    "\n",
    "(Note: Using ```.dataset``` on **train_set** or **validation_set** will return the original 60000 instances, instead use the specified dataloaders further below)"
   ]
  },
  {
   "cell_type": "code",
   "execution_count": 205,
   "id": "5a1d895c",
   "metadata": {},
   "outputs": [],
   "source": [
    "from copy import copy\n",
    "\n",
    "dataset = torchvision.datasets.MNIST(root = ROOT,\n",
    "                                 train = True,\n",
    "                                 download = True)\n",
    "train_set, validation_set = torch.utils.data.random_split(dataset, [TRAIN_SIZE, VALIDATION_SIZE])\n",
    "\n",
    "train_set.dataset = copy(dataset)\n",
    "\n",
    "train_set.dataset.transform = transform_train\n",
    "validation_set.dataset.transform = transform\n",
    "\n",
    "\n",
    "train_loader = torch.utils.data.DataLoader(train_set,\n",
    "                                           batch_size = BATCH_SIZE,\n",
    "                                           shuffle = True,\n",
    "                                           num_workers = 2)\n",
    "\n",
    "validation_loader = torch.utils.data.DataLoader(validation_set,\n",
    "                                                batch_size = BATCH_SIZE,\n",
    "                                                shuffle = True,\n",
    "                                                num_workers = 2)"
   ]
  },
  {
   "cell_type": "code",
   "execution_count": 206,
   "id": "4e29a972",
   "metadata": {},
   "outputs": [
    {
     "data": {
      "text/plain": [
       "Compose(\n",
       "    RandomRotation(degrees=[-15.0, 15.0], interpolation=nearest, expand=False, fill=0)\n",
       "    ToTensor()\n",
       "    Normalize(mean=(0.1307,), std=(0.3081,))\n",
       ")"
      ]
     },
     "execution_count": 206,
     "metadata": {},
     "output_type": "execute_result"
    }
   ],
   "source": [
    "train_set.dataset.transform"
   ]
  },
  {
   "cell_type": "code",
   "execution_count": 207,
   "id": "a0a71757",
   "metadata": {},
   "outputs": [
    {
     "data": {
      "text/plain": [
       "Compose(\n",
       "    ToTensor()\n",
       "    Normalize(mean=(0.1307,), std=(0.3081,))\n",
       ")"
      ]
     },
     "execution_count": 207,
     "metadata": {},
     "output_type": "execute_result"
    }
   ],
   "source": [
    "validation_set.dataset.transform"
   ]
  },
  {
   "cell_type": "markdown",
   "id": "32dd7165",
   "metadata": {},
   "source": [
    "### Test data"
   ]
  },
  {
   "cell_type": "code",
   "execution_count": 208,
   "id": "539e3dba",
   "metadata": {},
   "outputs": [],
   "source": [
    "test_set = dataset = torchvision.datasets.MNIST(root = ROOT,\n",
    "                                 train = False,\n",
    "                                 transform = transform,\n",
    "                                 download = True)\n",
    "\n",
    "test_loader = torch.utils.data.DataLoader(test_set,\n",
    "                                          batch_size = BATCH_SIZE,\n",
    "                                          shuffle = True,\n",
    "                                          num_workers = 2)"
   ]
  },
  {
   "cell_type": "markdown",
   "id": "5baa59e7",
   "metadata": {},
   "source": [
    "## Network (Q8)"
   ]
  },
  {
   "cell_type": "code",
   "execution_count": 209,
   "id": "2682521d",
   "metadata": {},
   "outputs": [],
   "source": [
    "log_interval = 100"
   ]
  },
  {
   "cell_type": "code",
   "execution_count": 210,
   "id": "9d2cee8b",
   "metadata": {},
   "outputs": [],
   "source": [
    "class Net(nn.Module):\n",
    "    def __init__(self):\n",
    "        super(Net, self).__init__()\n",
    "        self.conv1 = nn.Conv2d(1, 16, kernel_size = 3, stride = 1, padding = 1) # size: batch, 1, 28, 28\n",
    "        self.conv2 = nn.Conv2d(16, 32, kernel_size = 3, stride = 1, padding = 1) # (batch, 16, 14, 14)\n",
    "        self.conv3 = nn.Conv2d(32, 64, kernel_size = 3, stride = 1, padding = 1) # (batch, 32, 7, 7)\n",
    "        self.fc1 = nn.Linear(64*3*3, 10)\n",
    "\n",
    "    def forward(self, x):\n",
    "        x = F.max_pool2d(F.relu(self.conv1(x)), 2) # (batch, 16, 28, 28) # TODO klopt het dat relu en maxpool zijn omgedraaid?\n",
    "        x = F.max_pool2d(F.relu(self.conv2(x)), 2) # (batch, 32, 14, 14)\n",
    "        x = F.max_pool2d(F.relu(self.conv3(x)), 2) # (batch, 64, 7, 7)\n",
    "        x = torch.flatten(x, 1) # (batch, 64, 3, 3)\n",
    "        x = self.fc1(x)\n",
    "        return F.log_softmax(x, dim = 1)"
   ]
  },
  {
   "cell_type": "code",
   "execution_count": 211,
   "id": "c2e0d5e2",
   "metadata": {},
   "outputs": [],
   "source": [
    "network = Net()\n",
    "optimizer = optim.Adam(network.parameters(), lr=LEARNING_RATE)"
   ]
  },
  {
   "cell_type": "code",
   "execution_count": 212,
   "id": "c4f51955",
   "metadata": {},
   "outputs": [],
   "source": [
    "train_losses = []\n",
    "train_counter = []\n",
    "val_losses = []\n",
    "val_counter = [i*TRAIN_SIZE for i in range(EPOCHS + 1)]\n",
    "val_acc = []"
   ]
  },
  {
   "cell_type": "code",
   "execution_count": 213,
   "id": "faab6b1a",
   "metadata": {},
   "outputs": [],
   "source": [
    "# TODO Make sure to have \"results\" directory in \"CNN/\"\n",
    "def train(epoch):\n",
    "    network.train()\n",
    "    for batch_idx, (data, target) in enumerate(train_loader):\n",
    "        optimizer.zero_grad()\n",
    "        output = network(data)\n",
    "        loss = F.cross_entropy(output, target)\n",
    "        loss.backward()\n",
    "        optimizer.step()\n",
    "        if batch_idx % log_interval == 0:\n",
    "            print('Train Epoch: {} [{}/{} ({:.0f}%)]\\tLoss: {:.6f}'.format(\n",
    "                epoch, batch_idx * len(data), len(train_loader.dataset),\n",
    "                100. * batch_idx / len(train_loader), loss.item()))\n",
    "            train_losses.append(loss.item())\n",
    "            train_counter.append(\n",
    "                (batch_idx*64) + ((epoch-1)*len(train_loader.dataset)))\n",
    "            torch.save(network.state_dict(), '../results/model_Q8.pth')\n",
    "            torch.save(optimizer.state_dict(), '../results/optimizer_Q8.pth')"
   ]
  },
  {
   "cell_type": "code",
   "execution_count": 214,
   "id": "5193b720",
   "metadata": {},
   "outputs": [],
   "source": [
    "def test():\n",
    "    network.eval()\n",
    "    val_loss = 0\n",
    "    correct = 0\n",
    "    with torch.no_grad():\n",
    "        for data, target in validation_loader:\n",
    "            output = network(data)\n",
    "            val_loss += F.cross_entropy(output, target, size_average=False).item()\n",
    "            pred = output.data.max(1, keepdim=True)[1]\n",
    "            correct += pred.eq(target.data.view_as(pred)).sum()\n",
    "        val_loss /= VALIDATION_SIZE\n",
    "        val_losses.append(val_loss)\n",
    "        val_acc.append(float(100. * correct / VALIDATION_SIZE))\n",
    "        print('\\nValidation set: Avg. loss: {:.4f}, Accuracy: {}/{} ({:.0f}%)\\n'.format(\n",
    "            val_loss, correct, VALIDATION_SIZE,\n",
    "            100. * correct / VALIDATION_SIZE))"
   ]
  },
  {
   "cell_type": "code",
   "execution_count": 215,
   "id": "e97ebb41",
   "metadata": {
    "scrolled": true
   },
   "outputs": [
    {
     "name": "stdout",
     "output_type": "stream",
     "text": [
      "\n",
      "Validation set: Avg. loss: 2.3227, Accuracy: 644/10000 (6%)\n",
      "\n",
      "Train Epoch: 1 [0/50000 (0%)]\tLoss: 2.303464\n",
      "Train Epoch: 1 [6400/50000 (13%)]\tLoss: 0.343425\n",
      "Train Epoch: 1 [12800/50000 (26%)]\tLoss: 0.107883\n",
      "Train Epoch: 1 [19200/50000 (38%)]\tLoss: 0.069025\n",
      "Train Epoch: 1 [25600/50000 (51%)]\tLoss: 0.164441\n",
      "Train Epoch: 1 [32000/50000 (64%)]\tLoss: 0.047794\n",
      "Train Epoch: 1 [38400/50000 (77%)]\tLoss: 0.114620\n",
      "Train Epoch: 1 [44800/50000 (90%)]\tLoss: 0.034199\n",
      "\n",
      "Validation set: Avg. loss: 0.0668, Accuracy: 9802/10000 (98%)\n",
      "\n",
      "Train Epoch: 2 [0/50000 (0%)]\tLoss: 0.057902\n",
      "Train Epoch: 2 [6400/50000 (13%)]\tLoss: 0.369460\n",
      "Train Epoch: 2 [12800/50000 (26%)]\tLoss: 0.078846\n",
      "Train Epoch: 2 [19200/50000 (38%)]\tLoss: 0.050628\n",
      "Train Epoch: 2 [25600/50000 (51%)]\tLoss: 0.060554\n",
      "Train Epoch: 2 [32000/50000 (64%)]\tLoss: 0.036584\n",
      "Train Epoch: 2 [38400/50000 (77%)]\tLoss: 0.088717\n",
      "Train Epoch: 2 [44800/50000 (90%)]\tLoss: 0.111465\n",
      "\n",
      "Validation set: Avg. loss: 0.0412, Accuracy: 9875/10000 (99%)\n",
      "\n",
      "Train Epoch: 3 [0/50000 (0%)]\tLoss: 0.095972\n",
      "Train Epoch: 3 [6400/50000 (13%)]\tLoss: 0.073161\n",
      "Train Epoch: 3 [12800/50000 (26%)]\tLoss: 0.024696\n",
      "Train Epoch: 3 [19200/50000 (38%)]\tLoss: 0.169958\n",
      "Train Epoch: 3 [25600/50000 (51%)]\tLoss: 0.104068\n",
      "Train Epoch: 3 [32000/50000 (64%)]\tLoss: 0.031194\n",
      "Train Epoch: 3 [38400/50000 (77%)]\tLoss: 0.159456\n",
      "Train Epoch: 3 [44800/50000 (90%)]\tLoss: 0.040824\n",
      "\n",
      "Validation set: Avg. loss: 0.0452, Accuracy: 9860/10000 (99%)\n",
      "\n"
     ]
    }
   ],
   "source": [
    "test()\n",
    "for epoch in range(1, EPOCHS + 1):\n",
    "    train(epoch)\n",
    "    test()"
   ]
  },
  {
   "cell_type": "markdown",
   "id": "0d848a82",
   "metadata": {},
   "source": [
    "# Plotting"
   ]
  },
  {
   "cell_type": "code",
   "execution_count": 216,
   "id": "a7617e80",
   "metadata": {},
   "outputs": [],
   "source": [
    "# Save progress for plotting.\n",
    "np.savetxt(\"../results/augmented_training_stats.csv\", [p for p in zip(train_counter, train_losses)], delimiter=',', fmt='%s')\n",
    "np.savetxt(\"../results/augmented_validation_stats.csv\", [p for p in zip(val_counter, val_losses, val_acc)], delimiter=',', fmt='%s')"
   ]
  },
  {
   "cell_type": "code",
   "execution_count": 78,
   "id": "82f22d8e",
   "metadata": {},
   "outputs": [
    {
     "name": "stderr",
     "output_type": "stream",
     "text": [
      "\n",
      "Attaching package: ‘dplyr’\n",
      "\n",
      "The following objects are masked from ‘package:stats’:\n",
      "\n",
      "    filter, lag\n",
      "\n",
      "The following objects are masked from ‘package:base’:\n",
      "\n",
      "    intersect, setdiff, setequal, union\n",
      "\n",
      "Rows: 24 Columns: 2\n",
      "── Column specification ────────────────────────────────────────────────────────\n",
      "Delimiter: \",\"\n",
      "dbl (2): X1, X2\n",
      "\n",
      "ℹ Use `spec()` to retrieve the full column specification for this data.\n",
      "ℹ Specify the column types or set `show_col_types = FALSE` to quiet this message.\n",
      "Rows: 4 Columns: 3\n",
      "── Column specification ────────────────────────────────────────────────────────\n",
      "Delimiter: \",\"\n",
      "dbl (3): X1, X2, X3\n",
      "\n",
      "ℹ Use `spec()` to retrieve the full column specification for this data.\n",
      "ℹ Specify the column types or set `show_col_types = FALSE` to quiet this message.\n",
      "Warning messages:\n",
      "1: Removed 24 rows containing missing values (geom_point). \n",
      "2: Removed 24 rows containing missing values (geom_text_repel). \n",
      "Warning messages:\n",
      "1: Removed 24 rows containing missing values (geom_point). \n",
      "2: Removed 24 rows containing missing values (geom_text_repel). \n"
     ]
    },
    {
     "data": {
      "text/plain": [
       "0"
      ]
     },
     "execution_count": 78,
     "metadata": {},
     "output_type": "execute_result"
    }
   ],
   "source": [
    "import subprocess\n",
    "\n",
    "res = subprocess.call(\"Rscript ../scripts/plot_training.R\", shell=True)\n",
    "res"
   ]
  },
  {
   "cell_type": "code",
   "execution_count": null,
   "id": "3fc0f6de",
   "metadata": {},
   "outputs": [],
   "source": []
  }
 ],
 "metadata": {
  "kernelspec": {
   "display_name": "Python 3 (ipykernel)",
   "language": "python",
   "name": "python3"
  },
  "language_info": {
   "codemirror_mode": {
    "name": "ipython",
    "version": 3
   },
   "file_extension": ".py",
   "mimetype": "text/x-python",
   "name": "python",
   "nbconvert_exporter": "python",
   "pygments_lexer": "ipython3",
   "version": "3.8.13"
  }
 },
 "nbformat": 4,
 "nbformat_minor": 5
}
