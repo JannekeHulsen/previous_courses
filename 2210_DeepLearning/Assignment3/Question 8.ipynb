{
 "cells": [
  {
   "cell_type": "code",
   "execution_count": 1,
   "id": "63c386ae",
   "metadata": {},
   "outputs": [],
   "source": [
    "import torch\n",
    "import torchvision\n",
    "import torch.nn as nn\n",
    "import torch.nn.functional as F\n",
    "import torch.optim as optim\n",
    "\n",
    "from torchvision.transforms import *\n",
    "from torchvision.datasets import MNIST\n",
    "from torch.utils.data import DataLoader\n",
    "\n",
    "import numpy as np"
   ]
  },
  {
   "cell_type": "markdown",
   "id": "f52a9311",
   "metadata": {},
   "source": [
    "## Load data (Q7)\n",
    "Use the dataloaders to load both the train and the test set into large tensors:\n",
    "one for the instances, one for the labels. Split the training data into 50 000 training instances\n",
    "and 10 000 validation instances. Then write a training loop that loops over batches of 16\n",
    "instances at a time."
   ]
  },
  {
   "cell_type": "code",
   "execution_count": 2,
   "id": "1a23ed61",
   "metadata": {},
   "outputs": [],
   "source": [
    "TRAIN_SIZE = 50000\n",
    "VALIDATION_SIZE = 10000\n",
    "ROOT = '../data' # .. to not have data folder within notebooks folder\n",
    "BATCH_SIZE = 64 # TODO same size for training + validation set?\n",
    "EPOCHS = 3\n",
    "\n",
    "LEARNING_RATE = 0.001"
   ]
  },
  {
   "cell_type": "markdown",
   "id": "40a05fee",
   "metadata": {},
   "source": [
    "### Data transformer\n",
    "\n",
    "See on PyTorch discussion forum [here](https://discuss.pytorch.org/t/normalization-in-the-mnist-example/457/2) on choice for 0.137 (mean) and 0.3081 (std.) for normalization. Official PyTorch example code for MNIST also uses these parameters. "
   ]
  },
  {
   "cell_type": "code",
   "execution_count": 3,
   "id": "6a1e0711",
   "metadata": {},
   "outputs": [],
   "source": [
    "transform = transforms.Compose([transforms.ToTensor(),\n",
    "                                transforms.Normalize((0.1307,), (0.3081,))])"
   ]
  },
  {
   "cell_type": "markdown",
   "id": "bd71c2c4",
   "metadata": {},
   "source": [
    "### Training / validation data\n",
    "\n",
    "(Note: Using ```.dataset``` on **train_set** or **validation_set** will return the original 60000 instances, instead use the specified dataloaders further below)"
   ]
  },
  {
   "cell_type": "code",
   "execution_count": 4,
   "id": "c440767a",
   "metadata": {},
   "outputs": [],
   "source": [
    "dataset = torchvision.datasets.MNIST(root = ROOT,\n",
    "                                 train = True,\n",
    "                                 transform = transform,\n",
    "                                 download = True)\n",
    "train_set, validation_set = torch.utils.data.random_split(dataset, [TRAIN_SIZE, VALIDATION_SIZE])\n",
    "\n",
    "train_loader = torch.utils.data.DataLoader(train_set,\n",
    "                                           batch_size = BATCH_SIZE,\n",
    "                                           shuffle = True,\n",
    "                                           num_workers = 2)\n",
    "\n",
    "validation_loader = torch.utils.data.DataLoader(validation_set,\n",
    "                                                batch_size = BATCH_SIZE,\n",
    "                                                shuffle = True,\n",
    "                                                num_workers = 2)"
   ]
  },
  {
   "cell_type": "markdown",
   "id": "32dd7165",
   "metadata": {},
   "source": [
    "### Test data"
   ]
  },
  {
   "cell_type": "code",
   "execution_count": 5,
   "id": "539e3dba",
   "metadata": {},
   "outputs": [],
   "source": [
    "test_set = dataset = torchvision.datasets.MNIST(root = ROOT,\n",
    "                                 train = False,\n",
    "                                 transform = transform,\n",
    "                                 download = True)\n",
    "\n",
    "test_loader = torch.utils.data.DataLoader(test_set,\n",
    "                                          batch_size = BATCH_SIZE,\n",
    "                                          shuffle = True,\n",
    "                                          num_workers = 2)"
   ]
  },
  {
   "cell_type": "markdown",
   "id": "5baa59e7",
   "metadata": {},
   "source": [
    "## Network (Q8)"
   ]
  },
  {
   "cell_type": "code",
   "execution_count": 6,
   "id": "2682521d",
   "metadata": {},
   "outputs": [],
   "source": [
    "log_interval = 100\n",
    "\n",
    "# batch_size = 64\n",
    "# batch_size_val = 1000"
   ]
  },
  {
   "cell_type": "code",
   "execution_count": 7,
   "id": "9d2cee8b",
   "metadata": {},
   "outputs": [],
   "source": [
    "class Net(nn.Module):\n",
    "    def __init__(self):\n",
    "        super(Net, self).__init__()\n",
    "        self.conv1 = nn.Conv2d(1, 16, kernel_size = 3, stride = 1, padding = 1) # size: batch, 1, 28, 28\n",
    "        self.conv2 = nn.Conv2d(16, 32, kernel_size = 3, stride = 1, padding = 1) # (batch, 16, 14, 14)\n",
    "        self.conv3 = nn.Conv2d(32, 64, kernel_size = 3, stride = 1, padding = 1) # (batch, 32, 7, 7)\n",
    "        self.fc1 = nn.Linear(64*3*3, 10)\n",
    "\n",
    "    def forward(self, x):\n",
    "        x = F.max_pool2d(F.relu(self.conv1(x)), 2) # (batch, 16, 28, 28) # TODO klopt het dat relu en maxpool zijn omgedraaid?\n",
    "        x = F.max_pool2d(F.relu(self.conv2(x)), 2) # (batch, 32, 14, 14)\n",
    "        x = F.max_pool2d(F.relu(self.conv3(x)), 2) # (batch, 64, 7, 7)\n",
    "        x = torch.flatten(x, 1) # (batch, 64, 3, 3)\n",
    "        x = self.fc1(x)\n",
    "        return F.log_softmax(x, dim = 1)"
   ]
  },
  {
   "cell_type": "code",
   "execution_count": 8,
   "id": "c2e0d5e2",
   "metadata": {},
   "outputs": [],
   "source": [
    "network = Net()\n",
    "optimizer = optim.Adam(network.parameters(), lr=LEARNING_RATE)"
   ]
  },
  {
   "cell_type": "code",
   "execution_count": 9,
   "id": "c4f51955",
   "metadata": {},
   "outputs": [],
   "source": [
    "train_losses = []\n",
    "train_counter = []\n",
    "val_losses = []\n",
    "val_counter = [i*TRAIN_SIZE for i in range(EPOCHS + 1)]"
   ]
  },
  {
   "cell_type": "code",
   "execution_count": 10,
   "id": "faab6b1a",
   "metadata": {},
   "outputs": [],
   "source": [
    "# TODO Make sure to have \"results\" directory in \"CNN/\"\n",
    "def train(epoch):\n",
    "    network.train()\n",
    "    for batch_idx, (data, target) in enumerate(train_loader):\n",
    "        optimizer.zero_grad()\n",
    "        output = network(data)\n",
    "        loss = F.cross_entropy(output, target)\n",
    "        loss.backward()\n",
    "        optimizer.step()\n",
    "        if batch_idx % log_interval == 0:\n",
    "            print('Train Epoch: {} [{}/{} ({:.0f}%)]\\tLoss: {:.6f}'.format(\n",
    "                epoch, batch_idx * len(data), len(train_loader.dataset),\n",
    "                100. * batch_idx / len(train_loader), loss.item()))\n",
    "            train_losses.append(loss.item())\n",
    "            train_counter.append(\n",
    "                (batch_idx*64) + ((epoch-1)*len(train_loader.dataset)))\n",
    "            torch.save(network.state_dict(), '../results/model_Q8.pth')\n",
    "            torch.save(optimizer.state_dict(), '../results/optimizer_Q8.pth')"
   ]
  },
  {
   "cell_type": "code",
   "execution_count": 11,
   "id": "5193b720",
   "metadata": {},
   "outputs": [],
   "source": [
    "def test():\n",
    "    network.eval()\n",
    "    val_loss = 0\n",
    "    correct = 0\n",
    "    with torch.no_grad():\n",
    "        for data, target in validation_loader:\n",
    "            output = network(data)\n",
    "            val_loss += F.cross_entropy(output, target, size_average=False).item()\n",
    "            pred = output.data.max(1, keepdim=True)[1]\n",
    "            correct += pred.eq(target.data.view_as(pred)).sum()\n",
    "        val_loss /= VALIDATION_SIZE\n",
    "        val_losses.append(val_loss)\n",
    "        print('\\nTest set: Avg. loss: {:.4f}, Accuracy: {}/{} ({:.0f}%)\\n'.format(\n",
    "            val_loss, correct, VALIDATION_SIZE,\n",
    "            100. * correct / VALIDATION_SIZE))"
   ]
  },
  {
   "cell_type": "code",
   "execution_count": 12,
   "id": "e97ebb41",
   "metadata": {
    "scrolled": true
   },
   "outputs": [
    {
     "name": "stderr",
     "output_type": "stream",
     "text": [
      "/Users/jannekehulsen/miniconda3/lib/python3.9/site-packages/torch/nn/_reduction.py:42: UserWarning: size_average and reduce args will be deprecated, please use reduction='sum' instead.\n",
      "  warnings.warn(warning.format(ret))\n"
     ]
    },
    {
     "name": "stdout",
     "output_type": "stream",
     "text": [
      "\n",
      "Test set: Avg. loss: 2.3017, Accuracy: 1054/10000 (11%)\n",
      "\n",
      "Train Epoch: 1 [0/50000 (0%)]\tLoss: 2.295850\n",
      "Train Epoch: 1 [6400/50000 (13%)]\tLoss: 0.197876\n",
      "Train Epoch: 1 [12800/50000 (26%)]\tLoss: 0.090370\n",
      "Train Epoch: 1 [19200/50000 (38%)]\tLoss: 0.056896\n",
      "Train Epoch: 1 [25600/50000 (51%)]\tLoss: 0.204463\n",
      "Train Epoch: 1 [32000/50000 (64%)]\tLoss: 0.052106\n",
      "Train Epoch: 1 [38400/50000 (77%)]\tLoss: 0.075813\n",
      "Train Epoch: 1 [44800/50000 (90%)]\tLoss: 0.135348\n",
      "\n",
      "Test set: Avg. loss: 0.0819, Accuracy: 9743/10000 (97%)\n",
      "\n",
      "Train Epoch: 2 [0/50000 (0%)]\tLoss: 0.047400\n",
      "Train Epoch: 2 [6400/50000 (13%)]\tLoss: 0.106670\n",
      "Train Epoch: 2 [12800/50000 (26%)]\tLoss: 0.079203\n",
      "Train Epoch: 2 [19200/50000 (38%)]\tLoss: 0.058678\n",
      "Train Epoch: 2 [25600/50000 (51%)]\tLoss: 0.017611\n",
      "Train Epoch: 2 [32000/50000 (64%)]\tLoss: 0.031891\n",
      "Train Epoch: 2 [38400/50000 (77%)]\tLoss: 0.036189\n",
      "Train Epoch: 2 [44800/50000 (90%)]\tLoss: 0.034308\n",
      "\n",
      "Test set: Avg. loss: 0.0584, Accuracy: 9804/10000 (98%)\n",
      "\n",
      "Train Epoch: 3 [0/50000 (0%)]\tLoss: 0.030994\n",
      "Train Epoch: 3 [6400/50000 (13%)]\tLoss: 0.035606\n",
      "Train Epoch: 3 [12800/50000 (26%)]\tLoss: 0.009400\n",
      "Train Epoch: 3 [19200/50000 (38%)]\tLoss: 0.113003\n",
      "Train Epoch: 3 [25600/50000 (51%)]\tLoss: 0.018709\n",
      "Train Epoch: 3 [32000/50000 (64%)]\tLoss: 0.014546\n",
      "Train Epoch: 3 [38400/50000 (77%)]\tLoss: 0.011429\n",
      "Train Epoch: 3 [44800/50000 (90%)]\tLoss: 0.013775\n",
      "\n",
      "Test set: Avg. loss: 0.0485, Accuracy: 9849/10000 (98%)\n",
      "\n"
     ]
    }
   ],
   "source": [
    "test()\n",
    "for epoch in range(1, EPOCHS + 1):\n",
    "    train(epoch)\n",
    "    test()"
   ]
  },
  {
   "cell_type": "code",
   "execution_count": null,
   "id": "6edf951d",
   "metadata": {},
   "outputs": [],
   "source": []
  }
 ],
 "metadata": {
  "kernelspec": {
   "display_name": "Python 3 (ipykernel)",
   "language": "python",
   "name": "python3"
  },
  "language_info": {
   "codemirror_mode": {
    "name": "ipython",
    "version": 3
   },
   "file_extension": ".py",
   "mimetype": "text/x-python",
   "name": "python",
   "nbconvert_exporter": "python",
   "pygments_lexer": "ipython3",
   "version": "3.9.12"
  }
 },
 "nbformat": 4,
 "nbformat_minor": 5
}
