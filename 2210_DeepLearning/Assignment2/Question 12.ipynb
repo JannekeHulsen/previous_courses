{
 "cells": [
  {
   "cell_type": "code",
   "execution_count": 47,
   "id": "6d66479e",
   "metadata": {},
   "outputs": [],
   "source": [
    "import torch\n",
    "import torchvision\n",
    "import torchvision.transforms as transforms"
   ]
  },
  {
   "cell_type": "code",
   "execution_count": 48,
   "id": "23bbee7c",
   "metadata": {},
   "outputs": [
    {
     "name": "stdout",
     "output_type": "stream",
     "text": [
      "Files already downloaded and verified\n",
      "Files already downloaded and verified\n"
     ]
    }
   ],
   "source": [
    "transform = transforms.Compose(\n",
    "    [transforms.ToTensor(),\n",
    "     transforms.Normalize((0.5, 0.5, 0.5), (0.5, 0.5, 0.5))])\n",
    "\n",
    "batch_size = 4\n",
    "\n",
    "trainset = torchvision.datasets.CIFAR10(root='./data', train=True,\n",
    "                                        download=True, transform=transform)\n",
    "trainloader = torch.utils.data.DataLoader(trainset, batch_size=batch_size,\n",
    "                                          shuffle=True, num_workers=2)\n",
    "\n",
    "testset = torchvision.datasets.CIFAR10(root='./data', train=False,\n",
    "                                       download=True, transform=transform)\n",
    "testloader = torch.utils.data.DataLoader(testset, batch_size=batch_size,\n",
    "                                         shuffle=False, num_workers=2)\n",
    "\n",
    "classes = ('plane', 'car', 'bird', 'cat',\n",
    "           'deer', 'dog', 'frog', 'horse', 'ship', 'truck')"
   ]
  },
  {
   "cell_type": "code",
   "execution_count": 182,
   "id": "90dcf0c9",
   "metadata": {},
   "outputs": [],
   "source": [
    "import torch.nn as nn\n",
    "import torch.nn.functional as F\n",
    "\n",
    "\n",
    "class Net(nn.Module):\n",
    "    def __init__(self):\n",
    "        super().__init__()\n",
    "        self.conv1 = nn.Conv2d(3, 6, 5)\n",
    "        self.pool = nn.MaxPool2d(2, 2)\n",
    "        self.conv2 = nn.Conv2d(6, 16, 5)\n",
    "        self.fc1 = nn.Linear(16 * 5 * 5, 120)\n",
    "        self.fc2 = nn.Linear(120, 84)\n",
    "        self.fc3 = nn.Linear(84, 10)\n",
    "\n",
    "    def forward(self, x):\n",
    "        x = self.pool(F.relu(self.conv1(x)))\n",
    "        x = self.pool(F.relu(self.conv2(x)))\n",
    "        x = torch.flatten(x, 1) # flatten all dimensions except batch\n",
    "        x = F.relu(self.fc1(x))\n",
    "        x = F.relu(self.fc2(x))\n",
    "        x = self.fc3(x)\n",
    "        return x\n",
    "\n",
    "\n",
    "net = Net()"
   ]
  },
  {
   "cell_type": "code",
   "execution_count": 131,
   "id": "52b4754b",
   "metadata": {},
   "outputs": [],
   "source": [
    "import torch.optim as optim\n",
    "\n",
    "criterion = nn.CrossEntropyLoss()\n",
    "#criterion = nn.MSELoss() torch.argmax(outputs, dim = 1)\n",
    "# criterion = nn.NLLLoss\n",
    "# criterion = nn.KLDivLoss\n",
    "\n",
    "optimizer = optim.SGD(net.parameters(), lr=0.001, momentum=0.9)"
   ]
  },
  {
   "cell_type": "code",
   "execution_count": 183,
   "id": "9cfc9ecb",
   "metadata": {
    "scrolled": true
   },
   "outputs": [
    {
     "name": "stdout",
     "output_type": "stream",
     "text": [
      "[1,  2000] loss: 2.303\n",
      "[1,  4000] loss: 2.303\n",
      "[1,  6000] loss: 2.303\n",
      "[1,  8000] loss: 2.304\n",
      "[1, 10000] loss: 2.304\n",
      "[1, 12000] loss: 2.304\n",
      "[2,  2000] loss: 2.304\n",
      "[2,  4000] loss: 2.303\n",
      "[2,  6000] loss: 2.304\n",
      "[2,  8000] loss: 2.303\n",
      "[2, 10000] loss: 2.304\n",
      "[2, 12000] loss: 2.304\n",
      "[3,  2000] loss: 2.304\n",
      "[3,  4000] loss: 2.304\n",
      "[3,  6000] loss: 2.303\n",
      "[3,  8000] loss: 2.304\n",
      "[3, 10000] loss: 2.304\n",
      "[3, 12000] loss: 2.303\n",
      "[4,  2000] loss: 2.304\n",
      "[4,  4000] loss: 2.304\n",
      "[4,  6000] loss: 2.304\n",
      "[4,  8000] loss: 2.303\n",
      "[4, 10000] loss: 2.304\n",
      "[4, 12000] loss: 2.304\n",
      "[5,  2000] loss: 2.304\n",
      "[5,  4000] loss: 2.303\n",
      "[5,  6000] loss: 2.303\n",
      "[5,  8000] loss: 2.305\n",
      "[5, 10000] loss: 2.304\n",
      "[5, 12000] loss: 2.303\n",
      "[6,  2000] loss: 2.304\n",
      "[6,  4000] loss: 2.303\n",
      "[6,  6000] loss: 2.304\n",
      "[6,  8000] loss: 2.303\n",
      "[6, 10000] loss: 2.304\n",
      "[6, 12000] loss: 2.304\n",
      "[7,  2000] loss: 2.304\n",
      "[7,  4000] loss: 2.303\n",
      "[7,  6000] loss: 2.304\n",
      "[7,  8000] loss: 2.303\n",
      "[7, 10000] loss: 2.304\n",
      "[7, 12000] loss: 2.303\n",
      "[8,  2000] loss: 2.303\n",
      "[8,  4000] loss: 2.304\n",
      "[8,  6000] loss: 2.304\n",
      "[8,  8000] loss: 2.304\n",
      "[8, 10000] loss: 2.304\n",
      "[8, 12000] loss: 2.303\n",
      "[9,  2000] loss: 2.303\n",
      "[9,  4000] loss: 2.304\n",
      "[9,  6000] loss: 2.304\n",
      "[9,  8000] loss: 2.304\n",
      "[9, 10000] loss: 2.304\n",
      "[9, 12000] loss: 2.303\n",
      "[10,  2000] loss: 2.304\n",
      "[10,  4000] loss: 2.304\n",
      "[10,  6000] loss: 2.304\n",
      "[10,  8000] loss: 2.303\n",
      "[10, 10000] loss: 2.304\n",
      "[10, 12000] loss: 2.304\n",
      "Finished Training\n"
     ]
    }
   ],
   "source": [
    "# softmax = nn.LogSoftmax(dim=1)\n",
    "\n",
    "for epoch in range(10):  # loop over the dataset multiple times\n",
    "\n",
    "    running_loss = 0.0\n",
    "    for i, data in enumerate(trainloader, 0):\n",
    "        # get the inputs; data is a list of [inputs, labels]\n",
    "        inputs, labels = data\n",
    "        \n",
    "        # zero the parameter gradients\n",
    "        optimizer.zero_grad()\n",
    "\n",
    "        # forward + backward + optimize\n",
    "        outputs = net(inputs)\n",
    "        \n",
    "        loss = criterion(outputs, labels)\n",
    "        loss.backward()\n",
    "        optimizer.step()\n",
    "\n",
    "        # print statistics\n",
    "        running_loss += loss.item()\n",
    "        if i % 2000 == 1999:    # print every 2000 mini-batches\n",
    "            print(f'[{epoch + 1}, {i + 1:5d}] loss: {running_loss / 2000:.3f}')\n",
    "            running_loss = 0.0\n",
    "\n",
    "print('Finished Training')"
   ]
  },
  {
   "cell_type": "code",
   "execution_count": 184,
   "id": "97c267dc",
   "metadata": {},
   "outputs": [
    {
     "name": "stdout",
     "output_type": "stream",
     "text": [
      "input:  tensor([[ 1.5398,  1.3991,  0.6246, -0.9694, -1.3747],\n",
      "        [-0.0281,  0.9032,  1.6414,  0.0165,  0.9078],\n",
      "        [ 2.3238, -0.2847,  0.4932, -0.2474,  0.0907]], requires_grad=True)\n",
      "target:  tensor([1, 0, 4])\n",
      "output:  tensor(2.0404, grad_fn=<NllLossBackward0>)\n"
     ]
    }
   ],
   "source": [
    "import torch\n",
    "import torch.nn as nn\n",
    "\n",
    "# size of input (N x C) is = 3 x 5\n",
    "input = torch.randn(3, 5, requires_grad=True)\n",
    "# every element in target should have 0 <= value < C\n",
    "target = torch.tensor([1, 0, 4])\n",
    "\n",
    "softmax = nn.LogSoftmax(dim=1)\n",
    "nll_loss = nn.NLLLoss()\n",
    "output = nll_loss(softmax(input), target)\n",
    "output.backward()\n",
    "\n",
    "print('input: ', input)\n",
    "print('target: ', target)\n",
    "print('output: ', output)"
   ]
  },
  {
   "cell_type": "code",
   "execution_count": null,
   "id": "c68c4529",
   "metadata": {},
   "outputs": [],
   "source": []
  },
  {
   "cell_type": "code",
   "execution_count": 185,
   "id": "4e63b308",
   "metadata": {},
   "outputs": [],
   "source": [
    "PATH = './cifar_net_q12_1.pth'\n",
    "torch.save(net.state_dict(), PATH)"
   ]
  },
  {
   "cell_type": "code",
   "execution_count": null,
   "id": "b56fdeda",
   "metadata": {},
   "outputs": [],
   "source": []
  },
  {
   "cell_type": "code",
   "execution_count": null,
   "id": "9c4a45f2",
   "metadata": {},
   "outputs": [],
   "source": []
  },
  {
   "cell_type": "code",
   "execution_count": 186,
   "id": "f4ea0cdc",
   "metadata": {},
   "outputs": [
    {
     "name": "stdout",
     "output_type": "stream",
     "text": [
      "Accuracy of the network on the 10000 test images: 9 %\n"
     ]
    }
   ],
   "source": [
    "correct = 0\n",
    "total = 0\n",
    "# since we're not training, we don't need to calculate the gradients for our outputs\n",
    "with torch.no_grad():\n",
    "    for data in testloader:\n",
    "        images, labels = data\n",
    "        # calculate outputs by running images through the network\n",
    "        outputs = net(images)\n",
    "        # the class with the highest energy is what we choose as prediction\n",
    "        _, predicted = torch.max(outputs.data, 1)\n",
    "        total += labels.size(0)\n",
    "        correct += (predicted == labels).sum().item()\n",
    "\n",
    "print(f'Accuracy of the network on the 10000 test images: {100 * correct // total} %')"
   ]
  },
  {
   "cell_type": "code",
   "execution_count": 187,
   "id": "97dcb4b4",
   "metadata": {},
   "outputs": [
    {
     "name": "stdout",
     "output_type": "stream",
     "text": [
      "Accuracy for class: plane is 0.0 %\n",
      "Accuracy for class: car   is 0.0 %\n",
      "Accuracy for class: bird  is 0.1 %\n",
      "Accuracy for class: cat   is 0.0 %\n",
      "Accuracy for class: deer  is 0.0 %\n",
      "Accuracy for class: dog   is 0.0 %\n",
      "Accuracy for class: frog  is 85.1 %\n",
      "Accuracy for class: horse is 0.0 %\n",
      "Accuracy for class: ship  is 13.5 %\n",
      "Accuracy for class: truck is 0.0 %\n"
     ]
    }
   ],
   "source": [
    "# prepare to count predictions for each class\n",
    "correct_pred = {classname: 0 for classname in classes}\n",
    "total_pred = {classname: 0 for classname in classes}\n",
    "\n",
    "# again no gradients needed\n",
    "with torch.no_grad():\n",
    "    for data in testloader:\n",
    "        images, labels = data\n",
    "        outputs = net(images)\n",
    "        _, predictions = torch.max(outputs, 1)\n",
    "        # collect the correct predictions for each class\n",
    "        for label, prediction in zip(labels, predictions):\n",
    "            if label == prediction:\n",
    "                correct_pred[classes[label]] += 1\n",
    "            total_pred[classes[label]] += 1\n",
    "\n",
    "\n",
    "# print accuracy for each class\n",
    "for classname, correct_count in correct_pred.items():\n",
    "    accuracy = 100 * float(correct_count) / total_pred[classname]\n",
    "    print(f'Accuracy for class: {classname:5s} is {accuracy:.1f} %')"
   ]
  }
 ],
 "metadata": {
  "kernelspec": {
   "display_name": "Python 3 (ipykernel)",
   "language": "python",
   "name": "python3"
  },
  "language_info": {
   "codemirror_mode": {
    "name": "ipython",
    "version": 3
   },
   "file_extension": ".py",
   "mimetype": "text/x-python",
   "name": "python",
   "nbconvert_exporter": "python",
   "pygments_lexer": "ipython3",
   "version": "3.9.12"
  }
 },
 "nbformat": 4,
 "nbformat_minor": 5
}
