{
 "cells": [
  {
   "cell_type": "markdown",
   "id": "0fd03263",
   "metadata": {},
   "source": [
    "# Validate MNIST mean and std. values"
   ]
  },
  {
   "cell_type": "markdown",
   "id": "544447f9",
   "metadata": {},
   "source": [
    "Imports"
   ]
  },
  {
   "cell_type": "code",
   "execution_count": 6,
   "id": "7484a478",
   "metadata": {},
   "outputs": [
    {
     "name": "stdout",
     "output_type": "stream",
     "text": [
      "Size: torch.Size([60000, 28, 28]), Mean: 0.13066047430038452, Std.: 0.30810779333114624\n"
     ]
    }
   ],
   "source": [
    "import numpy as np\n",
    "import torchvision\n",
    "import torchvision.transforms as transforms\n",
    "ROOT = '../data'\n",
    "# load data\n",
    "train_transform = transforms.Compose([transforms.ToTensor()])\n",
    "train_set = torchvision.datasets.MNIST(root = ROOT, train = True, transform = train_transform)\n",
    "# calculate mean and standard deviation\n",
    "size = train_set.train_data.size()\n",
    "mean = train_set.train_data.float().mean()/255\n",
    "std = train_set.train_data.float().std()/255\n",
    "print(f'Size: {size}, Mean: {mean}, Std.: {std}')"
   ]
  }
 ],
 "metadata": {
  "kernelspec": {
   "display_name": "DLVU",
   "language": "python",
   "name": "dlvu"
  },
  "language_info": {
   "codemirror_mode": {
    "name": "ipython",
    "version": 3
   },
   "file_extension": ".py",
   "mimetype": "text/x-python",
   "name": "python",
   "nbconvert_exporter": "python",
   "pygments_lexer": "ipython3",
   "version": "3.10.6"
  }
 },
 "nbformat": 4,
 "nbformat_minor": 5
}
